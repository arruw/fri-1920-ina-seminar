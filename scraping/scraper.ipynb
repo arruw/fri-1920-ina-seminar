{
 "cells": [
  {
   "cell_type": "code",
   "execution_count": null,
   "metadata": {
    "collapsed": true
   },
   "outputs": [],
   "source": [
    "from urllib.request import urlopen as uReq\n",
    "from bs4 import BeautifulSoup as soup\n",
    "\n",
    "# prints indexes and data of all undirected networks without missing data with nodes < max_nodes\n",
    "\n",
    "max_nodes = 100\n",
    "\n",
    "base_url = 'http://networkrepository.com/'\n",
    "uClient = uReq(base_url + 'networks.php')\n",
    "page_html = uClient.read()\n",
    "uClient.close()\n",
    "\n",
    "networks_soup = soup(page_html, \"html.parser\")\n",
    "networks = networks_soup.findAll(\"tr\", {\"class\": \"success hrefRow tooltips\"})"
   ]
  },
  {
   "cell_type": "code",
   "execution_count": null,
   "outputs": [],
   "source": [
    "def k_to_float(string):\n",
    "    if string == '-':\n",
    "        return None\n",
    "    elif string[-1] == 'K':\n",
    "        return float(string[:-1]) * 1000\n",
    "    elif string[-1] == 'M':\n",
    "        return float(string[:-1]) * 1000000\n",
    "    elif string[-1] == 'B':\n",
    "        return float(string[:-1]) * 1000000000\n",
    "    else:\n",
    "        return float(string)\n",
    "\n",
    "def format_data(data):\n",
    "    if len(data) < 12: # not enough attributes\n",
    "        return None\n",
    "    for i,element in enumerate(data):\n",
    "        if element[-1] in ['K','M','B']:\n",
    "            data[i] = k_to_float(element)\n",
    "        elif element == '-' or element == 'nan':\n",
    "            return None\n",
    "        else:\n",
    "            data[i] = float(element)\n",
    "    return data\n",
    "\n",
    "for i,network in enumerate(networks):\n",
    "    data = format_data([element.string for element in network.find_all(\"td\")][2:-2])\n",
    "    if data != None and data[0] < max_nodes:\n",
    "        network_url = base_url + network['data-url']\n",
    "        network_html = uReq(network_url).read()\n",
    "        network_soup = soup(network_html, \"html.parser\")\n",
    "        metadata = network_soup.find(\"table\", {\"summary\": \"Dataset metadata\"})\n",
    "        if metadata != None: # ni podatkov o grafu\n",
    "            metadata = [ele.text.strip() for ele in metadata.find_all('td')]\n",
    "            if 'Undirected' in metadata:\n",
    "                print(i, data)"
   ],
   "metadata": {
    "collapsed": false,
    "pycharm": {
     "name": "#%%\n"
    }
   }
  }
 ],
 "metadata": {
  "kernelspec": {
   "display_name": "Python 3",
   "language": "python",
   "name": "python3"
  },
  "language_info": {
   "codemirror_mode": {
    "name": "ipython",
    "version": 2
   },
   "file_extension": ".py",
   "mimetype": "text/x-python",
   "name": "python",
   "nbconvert_exporter": "python",
   "pygments_lexer": "ipython2",
   "version": "2.7.6"
  },
  "pycharm": {
   "stem_cell": {
    "cell_type": "raw",
    "source": [],
    "metadata": {
     "collapsed": false
    }
   }
  }
 },
 "nbformat": 4,
 "nbformat_minor": 0
}
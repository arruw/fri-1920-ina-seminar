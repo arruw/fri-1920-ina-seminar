{
 "cells": [
  {
   "cell_type": "code",
   "execution_count": 4,
   "metadata": {},
   "outputs": [],
   "source": [
    "import sys\n",
    "import os\n",
    "\n",
    "sys.path.append(f'{os.getcwd()}/..')\n",
    "\n",
    "import numpy as np\n",
    "import pandas as pd\n",
    "import seaborn as sn\n",
    "from matplotlib import pyplot as plt\n",
    "\n",
    "from sklearn.linear_model import LogisticRegressionCV\n",
    "\n",
    "from collections import Counter\n",
    "\n",
    "from src.class_computer import link_prediction_methods"
   ]
  },
  {
   "cell_type": "code",
   "execution_count": 43,
   "metadata": {},
   "outputs": [],
   "source": [
    "df = pd.read_csv('../data/precomputed_with_classes_3.csv')\n",
    "del df['class']\n",
    "df = df.dropna()"
   ]
  },
  {
   "cell_type": "code",
   "execution_count": 11,
   "metadata": {},
   "outputs": [],
   "source": [
    "in_cols = list(df.columns[3:-len(link_prediction_methods)])\n",
    "out_cols = link_prediction_methods"
   ]
  },
  {
   "cell_type": "code",
   "execution_count": 60,
   "metadata": {},
   "outputs": [],
   "source": [
    "from keras import Sequential, Input\n",
    "from keras.layers import Dense\n",
    "\n",
    "in_dim = len(in_cols)\n",
    "out_dim = len(out_cols)\n",
    "\n",
    "def build_nn_model():\n",
    "    model = Sequential([\n",
    "        Dense(in_dim*2, input_dim=in_dim, activation='relu'),\n",
    "        Dense(in_dim*2, activation='relu'),\n",
    "        Dense(out_dim),\n",
    "    ])\n",
    "    model.compile(optimizer='adam', loss='mse', metrics=['accuracy', 'mae'])\n",
    "    return model\n"
   ]
  },
  {
   "cell_type": "code",
   "execution_count": 67,
   "metadata": {},
   "outputs": [
    {
     "output_type": "stream",
     "name": "stdout",
     "text": "Epoch 1/100\n1477/1477 [==============================] - 1s 375us/step - loss: 0.2928 - accuracy: 0.2925 - mae: 0.4996\nEpoch 2/100\n1477/1477 [==============================] - 0s 176us/step - loss: 0.0408 - accuracy: 0.2918 - mae: 0.1564\nEpoch 3/100\n1477/1477 [==============================] - 0s 249us/step - loss: 0.0149 - accuracy: 0.2844 - mae: 0.0811\nEpoch 4/100\n1477/1477 [==============================] - 0s 238us/step - loss: 0.0134 - accuracy: 0.3108 - mae: 0.0762\nEpoch 5/100\n1477/1477 [==============================] - 0s 181us/step - loss: 0.0121 - accuracy: 0.3284 - mae: 0.0719\nEpoch 6/100\n1477/1477 [==============================] - 0s 206us/step - loss: 0.0107 - accuracy: 0.3575 - mae: 0.0670\nEpoch 7/100\n1477/1477 [==============================] - 0s 225us/step - loss: 0.0095 - accuracy: 0.3615 - mae: 0.0621\nEpoch 8/100\n1477/1477 [==============================] - 0s 198us/step - loss: 0.0084 - accuracy: 0.3636 - mae: 0.0584\nEpoch 9/100\n1477/1477 [==============================] - 0s 204us/step - loss: 0.0075 - accuracy: 0.3846 - mae: 0.0543\nEpoch 10/100\n1477/1477 [==============================] - 0s 147us/step - loss: 0.0069 - accuracy: 0.3758 - mae: 0.0516\nEpoch 11/100\n1477/1477 [==============================] - 0s 228us/step - loss: 0.0064 - accuracy: 0.3859 - mae: 0.0496\nEpoch 12/100\n1477/1477 [==============================] - 0s 194us/step - loss: 0.0062 - accuracy: 0.3886 - mae: 0.0486\nEpoch 13/100\n1477/1477 [==============================] - 0s 193us/step - loss: 0.0061 - accuracy: 0.3900 - mae: 0.0478\nEpoch 14/100\n1477/1477 [==============================] - 0s 214us/step - loss: 0.0059 - accuracy: 0.3846 - mae: 0.0471\nEpoch 15/100\n1477/1477 [==============================] - 0s 195us/step - loss: 0.0058 - accuracy: 0.3805 - mae: 0.0471\nEpoch 16/100\n1477/1477 [==============================] - 0s 156us/step - loss: 0.0059 - accuracy: 0.3907 - mae: 0.0482\nEpoch 17/100\n1477/1477 [==============================] - 0s 205us/step - loss: 0.0057 - accuracy: 0.3825 - mae: 0.0464\nEpoch 18/100\n1477/1477 [==============================] - 0s 191us/step - loss: 0.0057 - accuracy: 0.3852 - mae: 0.0463\nEpoch 19/100\n1477/1477 [==============================] - 0s 208us/step - loss: 0.0056 - accuracy: 0.3697 - mae: 0.0459\nEpoch 20/100\n1477/1477 [==============================] - 0s 226us/step - loss: 0.0056 - accuracy: 0.3846 - mae: 0.0460\nEpoch 21/100\n1477/1477 [==============================] - 0s 209us/step - loss: 0.0056 - accuracy: 0.3724 - mae: 0.0463\nEpoch 22/100\n1477/1477 [==============================] - 0s 229us/step - loss: 0.0055 - accuracy: 0.3764 - mae: 0.0458\nEpoch 23/100\n1477/1477 [==============================] - 0s 251us/step - loss: 0.0055 - accuracy: 0.3690 - mae: 0.0460\nEpoch 24/100\n1477/1477 [==============================] - 1s 347us/step - loss: 0.0055 - accuracy: 0.3764 - mae: 0.0463\nEpoch 25/100\n1477/1477 [==============================] - 0s 217us/step - loss: 0.0055 - accuracy: 0.3737 - mae: 0.0457\nEpoch 26/100\n1477/1477 [==============================] - 0s 320us/step - loss: 0.0055 - accuracy: 0.4049 - mae: 0.0464\nEpoch 27/100\n1477/1477 [==============================] - 0s 229us/step - loss: 0.0054 - accuracy: 0.3643 - mae: 0.0451\nEpoch 28/100\n1477/1477 [==============================] - 0s 218us/step - loss: 0.0053 - accuracy: 0.4049 - mae: 0.0455\nEpoch 29/100\n1477/1477 [==============================] - 0s 215us/step - loss: 0.0053 - accuracy: 0.3968 - mae: 0.0452\nEpoch 30/100\n1477/1477 [==============================] - 0s 259us/step - loss: 0.0053 - accuracy: 0.3873 - mae: 0.0455\nEpoch 31/100\n1477/1477 [==============================] - 0s 253us/step - loss: 0.0053 - accuracy: 0.3866 - mae: 0.0446\nEpoch 32/100\n1477/1477 [==============================] - 0s 237us/step - loss: 0.0052 - accuracy: 0.4028 - mae: 0.0449\nEpoch 33/100\n1477/1477 [==============================] - 0s 179us/step - loss: 0.0052 - accuracy: 0.3839 - mae: 0.0443\nEpoch 34/100\n1477/1477 [==============================] - 0s 288us/step - loss: 0.0052 - accuracy: 0.3920 - mae: 0.0449\nEpoch 35/100\n1477/1477 [==============================] - 0s 286us/step - loss: 0.0053 - accuracy: 0.3900 - mae: 0.0443\nEpoch 36/100\n1477/1477 [==============================] - 0s 186us/step - loss: 0.0052 - accuracy: 0.3873 - mae: 0.0446\nEpoch 37/100\n1477/1477 [==============================] - 0s 309us/step - loss: 0.0052 - accuracy: 0.3988 - mae: 0.0453\nEpoch 38/100\n1477/1477 [==============================] - 0s 168us/step - loss: 0.0051 - accuracy: 0.3690 - mae: 0.0439\nEpoch 39/100\n1477/1477 [==============================] - 0s 178us/step - loss: 0.0051 - accuracy: 0.3947 - mae: 0.0444\nEpoch 40/100\n1477/1477 [==============================] - 0s 258us/step - loss: 0.0051 - accuracy: 0.3778 - mae: 0.0440\nEpoch 41/100\n1477/1477 [==============================] - 0s 156us/step - loss: 0.0051 - accuracy: 0.3961 - mae: 0.0439\nEpoch 42/100\n1477/1477 [==============================] - 0s 217us/step - loss: 0.0052 - accuracy: 0.3751 - mae: 0.0460\nEpoch 43/100\n1477/1477 [==============================] - 0s 215us/step - loss: 0.0050 - accuracy: 0.3751 - mae: 0.0437\nEpoch 44/100\n1477/1477 [==============================] - 0s 290us/step - loss: 0.0052 - accuracy: 0.4042 - mae: 0.0452\nEpoch 45/100\n1477/1477 [==============================] - 0s 244us/step - loss: 0.0050 - accuracy: 0.3879 - mae: 0.0440\nEpoch 46/100\n1477/1477 [==============================] - 0s 337us/step - loss: 0.0051 - accuracy: 0.3974 - mae: 0.0440\nEpoch 47/100\n1477/1477 [==============================] - 0s 155us/step - loss: 0.0050 - accuracy: 0.3974 - mae: 0.0440\nEpoch 48/100\n1477/1477 [==============================] - 0s 201us/step - loss: 0.0049 - accuracy: 0.3805 - mae: 0.0433\nEpoch 49/100\n1477/1477 [==============================] - 0s 204us/step - loss: 0.0050 - accuracy: 0.4123 - mae: 0.0437\nEpoch 50/100\n1477/1477 [==============================] - 0s 171us/step - loss: 0.0049 - accuracy: 0.4022 - mae: 0.0436\nEpoch 51/100\n1477/1477 [==============================] - 0s 199us/step - loss: 0.0049 - accuracy: 0.4008 - mae: 0.0434\nEpoch 52/100\n1477/1477 [==============================] - 0s 260us/step - loss: 0.0049 - accuracy: 0.4008 - mae: 0.0435\nEpoch 53/100\n1477/1477 [==============================] - 0s 171us/step - loss: 0.0051 - accuracy: 0.3920 - mae: 0.0455\nEpoch 54/100\n1477/1477 [==============================] - 0s 166us/step - loss: 0.0049 - accuracy: 0.3907 - mae: 0.0433\nEpoch 55/100\n1477/1477 [==============================] - 0s 219us/step - loss: 0.0048 - accuracy: 0.4103 - mae: 0.0431\nEpoch 56/100\n1477/1477 [==============================] - 0s 203us/step - loss: 0.0049 - accuracy: 0.4164 - mae: 0.0441\nEpoch 57/100\n1477/1477 [==============================] - 0s 159us/step - loss: 0.0048 - accuracy: 0.3825 - mae: 0.0430\nEpoch 58/100\n1477/1477 [==============================] - 0s 205us/step - loss: 0.0048 - accuracy: 0.3995 - mae: 0.0425\nEpoch 59/100\n1477/1477 [==============================] - 0s 221us/step - loss: 0.0048 - accuracy: 0.4015 - mae: 0.0432\nEpoch 60/100\n1477/1477 [==============================] - 0s 180us/step - loss: 0.0048 - accuracy: 0.4028 - mae: 0.0426\nEpoch 61/100\n1477/1477 [==============================] - 0s 258us/step - loss: 0.0048 - accuracy: 0.4001 - mae: 0.0426\nEpoch 62/100\n1477/1477 [==============================] - 0s 323us/step - loss: 0.0048 - accuracy: 0.3900 - mae: 0.0429\nEpoch 63/100\n1477/1477 [==============================] - 0s 208us/step - loss: 0.0048 - accuracy: 0.4008 - mae: 0.0423\nEpoch 64/100\n1477/1477 [==============================] - 0s 276us/step - loss: 0.0047 - accuracy: 0.4069 - mae: 0.0420\nEpoch 65/100\n1477/1477 [==============================] - 0s 178us/step - loss: 0.0047 - accuracy: 0.3961 - mae: 0.0423\nEpoch 66/100\n1477/1477 [==============================] - 0s 264us/step - loss: 0.0047 - accuracy: 0.4062 - mae: 0.0425\nEpoch 67/100\n1477/1477 [==============================] - 0s 228us/step - loss: 0.0047 - accuracy: 0.4076 - mae: 0.0425\nEpoch 68/100\n1477/1477 [==============================] - 0s 208us/step - loss: 0.0047 - accuracy: 0.3988 - mae: 0.0432\nEpoch 69/100\n1477/1477 [==============================] - 1s 345us/step - loss: 0.0047 - accuracy: 0.4015 - mae: 0.0417\nEpoch 70/100\n1477/1477 [==============================] - 0s 253us/step - loss: 0.0047 - accuracy: 0.4089 - mae: 0.0421\nEpoch 71/100\n1477/1477 [==============================] - 1s 379us/step - loss: 0.0047 - accuracy: 0.3968 - mae: 0.0430\nEpoch 72/100\n1477/1477 [==============================] - 1s 389us/step - loss: 0.0046 - accuracy: 0.4130 - mae: 0.0417\nEpoch 73/100\n1477/1477 [==============================] - 1s 433us/step - loss: 0.0046 - accuracy: 0.4083 - mae: 0.0415\nEpoch 74/100\n1477/1477 [==============================] - 0s 269us/step - loss: 0.0046 - accuracy: 0.4191 - mae: 0.0424\nEpoch 75/100\n1477/1477 [==============================] - 0s 292us/step - loss: 0.0046 - accuracy: 0.3981 - mae: 0.0417\nEpoch 76/100\n1477/1477 [==============================] - 0s 311us/step - loss: 0.0046 - accuracy: 0.4022 - mae: 0.0418\nEpoch 77/100\n1477/1477 [==============================] - 0s 306us/step - loss: 0.0046 - accuracy: 0.4177 - mae: 0.0416\nEpoch 78/100\n1477/1477 [==============================] - 1s 463us/step - loss: 0.0048 - accuracy: 0.4022 - mae: 0.0443\nEpoch 79/100\n1477/1477 [==============================] - 1s 355us/step - loss: 0.0045 - accuracy: 0.3879 - mae: 0.0419\nEpoch 80/100\n1477/1477 [==============================] - 0s 307us/step - loss: 0.0046 - accuracy: 0.4062 - mae: 0.0420\nEpoch 81/100\n1477/1477 [==============================] - 1s 408us/step - loss: 0.0047 - accuracy: 0.4211 - mae: 0.0435\nEpoch 82/100\n1477/1477 [==============================] - 1s 367us/step - loss: 0.0045 - accuracy: 0.4083 - mae: 0.0411\nEpoch 83/100\n1477/1477 [==============================] - 0s 330us/step - loss: 0.0045 - accuracy: 0.4232 - mae: 0.0419\nEpoch 84/100\n1477/1477 [==============================] - 1s 342us/step - loss: 0.0045 - accuracy: 0.4049 - mae: 0.0414\nEpoch 85/100\n1477/1477 [==============================] - 1s 538us/step - loss: 0.0045 - accuracy: 0.3934 - mae: 0.0409\nEpoch 86/100\n1477/1477 [==============================] - 1s 375us/step - loss: 0.0045 - accuracy: 0.4089 - mae: 0.0413\nEpoch 87/100\n1477/1477 [==============================] - 0s 310us/step - loss: 0.0044 - accuracy: 0.4042 - mae: 0.0409\nEpoch 88/100\n1477/1477 [==============================] - 0s 268us/step - loss: 0.0045 - accuracy: 0.4056 - mae: 0.0416\nEpoch 89/100\n1477/1477 [==============================] - 0s 262us/step - loss: 0.0045 - accuracy: 0.4157 - mae: 0.0423\nEpoch 90/100\n1477/1477 [==============================] - 0s 197us/step - loss: 0.0045 - accuracy: 0.4123 - mae: 0.0417\nEpoch 91/100\n1477/1477 [==============================] - 0s 245us/step - loss: 0.0044 - accuracy: 0.3934 - mae: 0.0408\nEpoch 92/100\n1477/1477 [==============================] - 0s 192us/step - loss: 0.0044 - accuracy: 0.4123 - mae: 0.0410\nEpoch 93/100\n1477/1477 [==============================] - 0s 272us/step - loss: 0.0045 - accuracy: 0.4198 - mae: 0.0416\nEpoch 94/100\n1477/1477 [==============================] - 0s 328us/step - loss: 0.0044 - accuracy: 0.4069 - mae: 0.0409\nEpoch 95/100\n1477/1477 [==============================] - 0s 268us/step - loss: 0.0044 - accuracy: 0.3995 - mae: 0.0411\nEpoch 96/100\n1477/1477 [==============================] - 0s 336us/step - loss: 0.0044 - accuracy: 0.4238 - mae: 0.0406\nEpoch 97/100\n1477/1477 [==============================] - 0s 165us/step - loss: 0.0043 - accuracy: 0.4130 - mae: 0.0406\nEpoch 98/100\n1477/1477 [==============================] - 0s 212us/step - loss: 0.0044 - accuracy: 0.4076 - mae: 0.0417\nEpoch 99/100\n1477/1477 [==============================] - 0s 234us/step - loss: 0.0044 - accuracy: 0.4157 - mae: 0.0411\nEpoch 100/100\n1477/1477 [==============================] - 0s 171us/step - loss: 0.0044 - accuracy: 0.4123 - mae: 0.0408\n"
    },
    {
     "output_type": "execute_result",
     "data": {
      "text/plain": "<keras.callbacks.callbacks.History at 0x7fe79746dc18>"
     },
     "metadata": {},
     "execution_count": 67
    }
   ],
   "source": [
    "from keras.wrappers.scikit_learn import KerasRegressor\n",
    "from sklearn.preprocessing import Normalizer\n",
    "from sklearn.model_selection import train_test_split\n",
    "\n",
    "X_train, X_test, y_train, y_test = train_test_split(df[in_cols], df[out_cols], test_size=0.10, random_state=0)\n",
    "\n",
    "normalizer = Normalizer().fit(X_train)\n",
    "\n",
    "X_train = normalizer.transform(X_train)\n",
    "Y_train = y_train\n",
    "\n",
    "X_test = normalizer.transform(X_test)\n",
    "Y_test = y_test\n",
    "\n",
    "regressor = KerasRegressor(build_fn=build_nn_model, batch_size=32,epochs=100)\n",
    "regressor.fit(X_train, Y_train)"
   ]
  },
  {
   "cell_type": "code",
   "execution_count": 74,
   "metadata": {},
   "outputs": [
    {
     "output_type": "execute_result",
     "data": {
      "text/plain": "      resource_allocation  jaccard_coefficient  preferential_attachment  \\\n1575             0.839080             0.919540                 0.574713   \n1420             0.858289             0.834225                 0.334225   \n991              0.951945             0.955378                 0.411899   \n1399             0.931677             0.936335                 0.338509   \n1579             0.898585             0.825472                 0.365566   \n596              0.968354             0.965190                 0.477848   \n1124             0.949640             0.944844                 0.405276   \n1564             0.917460             0.930159                 0.377778   \n1333             0.836864             0.879237                 0.411017   \n1512             0.944444             0.942460                 0.404762   \n\n      community  sorensen_neighbours  \n1575   0.666667             0.919540  \n1420   0.713904             0.839572  \n991    0.866133             0.947368  \n1399   0.784161             0.936335  \n1579   0.702830             0.865566  \n596    0.778481             0.977848  \n1124   0.856115             0.952038  \n1564   0.860317             0.933333  \n1333   0.760593             0.868644  \n1512   0.857143             0.958333  ",
      "text/html": "<div>\n<style scoped>\n    .dataframe tbody tr th:only-of-type {\n        vertical-align: middle;\n    }\n\n    .dataframe tbody tr th {\n        vertical-align: top;\n    }\n\n    .dataframe thead th {\n        text-align: right;\n    }\n</style>\n<table border=\"1\" class=\"dataframe\">\n  <thead>\n    <tr style=\"text-align: right;\">\n      <th></th>\n      <th>resource_allocation</th>\n      <th>jaccard_coefficient</th>\n      <th>preferential_attachment</th>\n      <th>community</th>\n      <th>sorensen_neighbours</th>\n    </tr>\n  </thead>\n  <tbody>\n    <tr>\n      <th>1575</th>\n      <td>0.839080</td>\n      <td>0.919540</td>\n      <td>0.574713</td>\n      <td>0.666667</td>\n      <td>0.919540</td>\n    </tr>\n    <tr>\n      <th>1420</th>\n      <td>0.858289</td>\n      <td>0.834225</td>\n      <td>0.334225</td>\n      <td>0.713904</td>\n      <td>0.839572</td>\n    </tr>\n    <tr>\n      <th>991</th>\n      <td>0.951945</td>\n      <td>0.955378</td>\n      <td>0.411899</td>\n      <td>0.866133</td>\n      <td>0.947368</td>\n    </tr>\n    <tr>\n      <th>1399</th>\n      <td>0.931677</td>\n      <td>0.936335</td>\n      <td>0.338509</td>\n      <td>0.784161</td>\n      <td>0.936335</td>\n    </tr>\n    <tr>\n      <th>1579</th>\n      <td>0.898585</td>\n      <td>0.825472</td>\n      <td>0.365566</td>\n      <td>0.702830</td>\n      <td>0.865566</td>\n    </tr>\n    <tr>\n      <th>596</th>\n      <td>0.968354</td>\n      <td>0.965190</td>\n      <td>0.477848</td>\n      <td>0.778481</td>\n      <td>0.977848</td>\n    </tr>\n    <tr>\n      <th>1124</th>\n      <td>0.949640</td>\n      <td>0.944844</td>\n      <td>0.405276</td>\n      <td>0.856115</td>\n      <td>0.952038</td>\n    </tr>\n    <tr>\n      <th>1564</th>\n      <td>0.917460</td>\n      <td>0.930159</td>\n      <td>0.377778</td>\n      <td>0.860317</td>\n      <td>0.933333</td>\n    </tr>\n    <tr>\n      <th>1333</th>\n      <td>0.836864</td>\n      <td>0.879237</td>\n      <td>0.411017</td>\n      <td>0.760593</td>\n      <td>0.868644</td>\n    </tr>\n    <tr>\n      <th>1512</th>\n      <td>0.944444</td>\n      <td>0.942460</td>\n      <td>0.404762</td>\n      <td>0.857143</td>\n      <td>0.958333</td>\n    </tr>\n  </tbody>\n</table>\n</div>"
     },
     "metadata": {},
     "execution_count": 74
    }
   ],
   "source": [
    "Y_test.iloc[0:10, :]"
   ]
  },
  {
   "cell_type": "code",
   "execution_count": 97,
   "metadata": {},
   "outputs": [
    {
     "output_type": "execute_result",
     "data": {
      "text/plain": "array([[0.81846166, 0.7835689 , 0.5038661 , 0.6651687 , 0.7692672 ],\n       [0.8767184 , 0.8997793 , 0.3643569 , 0.79295105, 0.8936988 ],\n       [0.9588994 , 0.97369677, 0.3773047 , 0.8477847 , 0.97288746],\n       [0.92923963, 0.94758785, 0.37145168, 0.82930124, 0.9445426 ],\n       [0.86901855, 0.8969667 , 0.34711322, 0.79245275, 0.8896325 ],\n       [0.9558034 , 0.97104335, 0.3669403 , 0.83798766, 0.9708549 ],\n       [0.9445344 , 0.960672  , 0.37928718, 0.83835393, 0.95855635],\n       [0.9314136 , 0.9496528 , 0.36111304, 0.82579774, 0.94777936],\n       [0.8681029 , 0.88922703, 0.36896247, 0.7881229 , 0.8835571 ],\n       [0.9450444 , 0.9628157 , 0.36804304, 0.83713883, 0.96087664],\n       [0.62362504, 0.6334057 , 0.3127833 , 0.7549271 , 0.63862056],\n       [0.8460606 , 0.86499244, 0.35732445, 0.7519562 , 0.8568853 ],\n       [0.9002975 , 0.92026687, 0.3491668 , 0.7930862 , 0.91489774],\n       [0.9100089 , 0.92883646, 0.38775292, 0.8138307 , 0.9236721 ],\n       [0.91436684, 0.93568957, 0.35624853, 0.81487924, 0.93215084],\n       [0.62362504, 0.6334057 , 0.3127833 , 0.7549271 , 0.63862056],\n       [0.9483105 , 0.9633705 , 0.37811592, 0.8396295 , 0.9620611 ],\n       [0.7647978 , 0.7712798 , 0.4536251 , 0.7236399 , 0.76389647],\n       [0.8709819 , 0.8913696 , 0.36758405, 0.78592914, 0.8863617 ],\n       [0.62670445, 0.6027064 , 0.6095796 , 0.60933346, 0.5870674 ]],\n      dtype=float32)"
     },
     "metadata": {},
     "execution_count": 97
    }
   ],
   "source": [
    "results = regressor.predict(X_test)\n",
    "results[0:20, :]"
   ]
  },
  {
   "cell_type": "code",
   "execution_count": 99,
   "metadata": {},
   "outputs": [
    {
     "output_type": "execute_result",
     "data": {
      "text/plain": "['resource_allocation',\n 'jaccard_coefficient',\n 'jaccard_coefficient',\n 'jaccard_coefficient',\n 'jaccard_coefficient',\n 'jaccard_coefficient',\n 'jaccard_coefficient',\n 'jaccard_coefficient',\n 'jaccard_coefficient',\n 'jaccard_coefficient',\n 'community',\n 'jaccard_coefficient',\n 'jaccard_coefficient',\n 'jaccard_coefficient',\n 'jaccard_coefficient',\n 'community',\n 'jaccard_coefficient',\n 'jaccard_coefficient',\n 'jaccard_coefficient',\n 'resource_allocation']"
     },
     "metadata": {},
     "execution_count": 99
    }
   ],
   "source": [
    "predicted = list(map(lambda x: link_prediction_methods[x], np.argmax(results, axis=1)))\n",
    "predicted[0:20]"
   ]
  },
  {
   "cell_type": "code",
   "execution_count": 175,
   "metadata": {
    "tags": [
     "outputPrepend",
     "outputPrepend",
     "outputPrepend",
     "outputPrepend"
    ]
   },
   "outputs": [
    {
     "output_type": "execute_result",
     "data": {
      "text/plain": "(0.8667750401235926, 0.1124510633993589)"
     },
     "metadata": {},
     "execution_count": 175
    }
   ],
   "source": [
    "import statistics\n",
    "\n",
    "Y_score = Y_test.reset_index(drop=True)\n",
    "\n",
    "aucs = []\n",
    "for i, p in enumerate(predicted):\n",
    "    aucs.append(Y_score.loc[i, p])\n",
    "\n",
    "(statistics.mean(aucs), statistics.stdev(aucs))"
   ]
  },
  {
   "cell_type": "markdown",
   "metadata": {},
   "source": [
    "#### Baseline\n",
    "- AUC mean: 0.859299\n",
    "- AUC std: 0.132959\n",
    "\n",
    "#### NN Regression\n",
    "- AUC mean: 0.8667750401235926\n",
    "- AUC std: 0.1124510633993589"
   ]
  },
  {
   "cell_type": "markdown",
   "metadata": {},
   "source": []
  }
 ],
 "metadata": {
  "language_info": {
   "codemirror_mode": {
    "name": "ipython",
    "version": 3
   },
   "file_extension": ".py",
   "mimetype": "text/x-python",
   "name": "python",
   "nbconvert_exporter": "python",
   "pygments_lexer": "ipython3",
   "version": "3.6.9-final"
  },
  "orig_nbformat": 2,
  "kernelspec": {
   "name": "python36964bitenvvenv614d92e831f4432bbbf04e0d7475f739",
   "display_name": "Python 3.6.9 64-bit ('.env': venv)"
  }
 },
 "nbformat": 4,
 "nbformat_minor": 2
}